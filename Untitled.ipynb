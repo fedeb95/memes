{
 "cells": [
  {
   "cell_type": "code",
   "execution_count": 104,
   "id": "cffa2aac",
   "metadata": {},
   "outputs": [],
   "source": [
    "import pandas as pd\n",
    "import matplotlib.pyplot as plt\n",
    "import matplotlib as mpl"
   ]
  },
  {
   "cell_type": "code",
   "execution_count": 131,
   "id": "a88a3c4e",
   "metadata": {},
   "outputs": [],
   "source": [
    "df = pd.read_csv('./data_2022-05-17_23:15:08.073699.csv', sep=';')"
   ]
  },
  {
   "cell_type": "code",
   "execution_count": 132,
   "id": "56543792",
   "metadata": {},
   "outputs": [
    {
     "data": {
      "text/html": [
       "<div>\n",
       "<style scoped>\n",
       "    .dataframe tbody tr th:only-of-type {\n",
       "        vertical-align: middle;\n",
       "    }\n",
       "\n",
       "    .dataframe tbody tr th {\n",
       "        vertical-align: top;\n",
       "    }\n",
       "\n",
       "    .dataframe thead th {\n",
       "        text-align: right;\n",
       "    }\n",
       "</style>\n",
       "<table border=\"1\" class=\"dataframe\">\n",
       "  <thead>\n",
       "    <tr style=\"text-align: right;\">\n",
       "      <th></th>\n",
       "      <th>name</th>\n",
       "      <th>upvotes</th>\n",
       "      <th>downvotes</th>\n",
       "      <th>upvote_ratio</th>\n",
       "      <th>score</th>\n",
       "    </tr>\n",
       "    <tr>\n",
       "      <th>time</th>\n",
       "      <th></th>\n",
       "      <th></th>\n",
       "      <th></th>\n",
       "      <th></th>\n",
       "      <th></th>\n",
       "    </tr>\n",
       "  </thead>\n",
       "  <tbody>\n",
       "    <tr>\n",
       "      <th>2022-05-17 23:15:08.073893</th>\n",
       "      <td>t3_urw4ow</td>\n",
       "      <td>29</td>\n",
       "      <td>0</td>\n",
       "      <td>0.94</td>\n",
       "      <td>29</td>\n",
       "    </tr>\n",
       "    <tr>\n",
       "      <th>2022-05-17 23:15:08.073893</th>\n",
       "      <td>t3_urujpi</td>\n",
       "      <td>138</td>\n",
       "      <td>0</td>\n",
       "      <td>0.99</td>\n",
       "      <td>138</td>\n",
       "    </tr>\n",
       "    <tr>\n",
       "      <th>2022-05-17 23:15:08.073893</th>\n",
       "      <td>t3_urvsys</td>\n",
       "      <td>41</td>\n",
       "      <td>0</td>\n",
       "      <td>0.94</td>\n",
       "      <td>41</td>\n",
       "    </tr>\n",
       "    <tr>\n",
       "      <th>2022-05-17 23:15:08.073893</th>\n",
       "      <td>t3_urv8uw</td>\n",
       "      <td>59</td>\n",
       "      <td>0</td>\n",
       "      <td>0.98</td>\n",
       "      <td>59</td>\n",
       "    </tr>\n",
       "    <tr>\n",
       "      <th>2022-05-17 23:15:08.073893</th>\n",
       "      <td>t3_urw7kt</td>\n",
       "      <td>14</td>\n",
       "      <td>0</td>\n",
       "      <td>0.89</td>\n",
       "      <td>14</td>\n",
       "    </tr>\n",
       "  </tbody>\n",
       "</table>\n",
       "</div>"
      ],
      "text/plain": [
       "                                 name  upvotes  downvotes  upvote_ratio  score\n",
       "time                                                                          \n",
       "2022-05-17 23:15:08.073893  t3_urw4ow       29          0          0.94     29\n",
       "2022-05-17 23:15:08.073893  t3_urujpi      138          0          0.99    138\n",
       "2022-05-17 23:15:08.073893  t3_urvsys       41          0          0.94     41\n",
       "2022-05-17 23:15:08.073893  t3_urv8uw       59          0          0.98     59\n",
       "2022-05-17 23:15:08.073893  t3_urw7kt       14          0          0.89     14"
      ]
     },
     "execution_count": 132,
     "metadata": {},
     "output_type": "execute_result"
    }
   ],
   "source": [
    "df = df.set_index('time')\n",
    "df.index = pd.DatetimeIndex(df.index)\n",
    "df.head()"
   ]
  },
  {
   "cell_type": "code",
   "execution_count": 133,
   "id": "9a18592b",
   "metadata": {},
   "outputs": [
    {
     "data": {
      "image/png": "[encoded data removed]",
      "text/plain": [
       "<Figure size 360x216 with 1 Axes>"
      ]
     },
     "metadata": {
      "needs_background": "light"
     },
     "output_type": "display_data"
    }
   ],
   "source": [
    "fig = plt.figure(figsize=(5, 3))\n",
    "ax = fig.add_axes([0, 0, 1, 1])\n",
    "plt.xticks(rotation = 45) # Rotates X-Axis Ticks by 45-degrees\n",
    "df.groupby('name')['upvotes'].plot()\n",
    "ax.legend()\n",
    "plt.show()"
   ]
  },
  {
   "cell_type": "code",
   "execution_count": 59,
   "id": "1649b8ce",
   "metadata": {},
   "outputs": [],
   "source": [
    "from scipy.optimize import curve_fit\n",
    "import numpy as np"
   ]
  },
  {
   "cell_type": "code",
   "execution_count": 60,
   "id": "7ae57a83",
   "metadata": {},
   "outputs": [],
   "source": [
    "def exponential(x, a, b):\n",
    "    return a*np.exp(b*x)"
   ]
  },
  {
   "cell_type": "code",
   "execution_count": 124,
   "id": "8d1b77b8",
   "metadata": {},
   "outputs": [],
   "source": [
    "meme_name = 't3_urujpi'\n",
    "x_data = df[df['name'] == meme_name] \n",
    "x_data = x_data.index.astype(np.int64) \n",
    "x_data = (x_data - min(x_data)) / 1000\n",
    "x_data = x_data.to_numpy()"
   ]
  },
  {
   "cell_type": "code",
   "execution_count": 125,
   "id": "0d6dd275",
   "metadata": {},
   "outputs": [],
   "source": [
    "y_data = df[df['name'] == meme_name]\n",
    "y_data = y_data['upvotes'].astype(np.int64).to_numpy()"
   ]
  },
  {
   "cell_type": "code",
   "execution_count": 126,
   "id": "4ab07006",
   "metadata": {},
   "outputs": [
    {
     "name": "stderr",
     "output_type": "stream",
     "text": [
      "/home/bedef/Projects/memes_power_law/venv/lib/python3.10/site-packages/scipy/optimize/_minpack_py.py:833: OptimizeWarning: Covariance of the parameters could not be estimated\n",
      "  warnings.warn('Covariance of the parameters could not be estimated',\n"
     ]
    }
   ],
   "source": [
    "# Fit the dummy exponential data\n",
    "pars, cov = curve_fit(f=exponential, xdata=x_data, ydata=y_data, p0=[0, 0], bounds=(-np.inf, np.inf))"
   ]
  },
  {
   "cell_type": "code",
   "execution_count": 127,
   "id": "880afff7",
   "metadata": {},
   "outputs": [],
   "source": [
    "# Get the standard deviations of the parameters (square roots of the # diagonal of the covariance)\n",
    "stdevs = np.sqrt(np.diag(cov))# Calculate the residuals\n",
    "res = y_data - exponential(x_data, *pars)"
   ]
  },
  {
   "cell_type": "code",
   "execution_count": 129,
   "id": "3d086992",
   "metadata": {},
   "outputs": [
    {
     "data": {
      "text/plain": [
       "[<matplotlib.lines.Line2D at 0x7f80874dfd30>]"
      ]
     },
     "execution_count": 129,
     "metadata": {},
     "output_type": "execute_result"
    },
    {
     "data": {
      "image/png": "[encoded data removed]",
      "text/plain": [
       "<Figure size 216x216 with 1 Axes>"
      ]
     },
     "metadata": {
      "needs_background": "light"
     },
     "output_type": "display_data"
    }
   ],
   "source": [
    "fig = plt.figure(figsize=(3, 3))\n",
    "ax = fig.add_axes([0, 0, 1, 1])\n",
    "# Set the y-axis scaling to logarithmic\n",
    "ax.set_yscale('log')\n",
    "# Set the y-ticks\n",
    "ax.yaxis.set_major_locator(mpl.ticker.LogLocator(base=10.0))# Set the y-axis limits\n",
    "ax.set_ylim(0.1, 1000)\n",
    "# Plot the data\n",
    "ax.scatter(x_data, y_data, s=20, color='#00b3b3', label='Data')\n",
    "# Plot the fit data as an overlay on the scatter data\n",
    "ax.plot(x_data, exponential(x_data, *pars), linestyle='--', linewidth=2, color='black')"
   ]
  },
  {
   "cell_type": "code",
   "execution_count": 130,
   "id": "c77cd912",
   "metadata": {},
   "outputs": [
    {
     "name": "stdout",
     "output_type": "stream",
     "text": [
      "[8.39238095e+01 4.64769939e-29]\n"
     ]
    }
   ],
   "source": [
    "print(pars)"
   ]
  }
 ],
 "metadata": {
  "kernelspec": {
   "display_name": "Python 3 (ipykernel)",
   "language": "python",
   "name": "python3"
  },
  "language_info": {
   "codemirror_mode": {
    "name": "ipython",
    "version": 3
   },
   "file_extension": ".py",
   "mimetype": "text/x-python",
   "name": "python",
   "nbconvert_exporter": "python",
   "pygments_lexer": "ipython3",
   "version": "3.10.4"
  }
 },
 "nbformat": 4,
 "nbformat_minor": 5
}
