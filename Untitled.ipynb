{
 "cells": [
  {
   "cell_type": "code",
   "execution_count": 11,
   "id": "c8053129",
   "metadata": {},
   "outputs": [],
   "source": [
    "import pandas as pd\n",
    "import matplotlib.pyplot as plt"
   ]
  },
  {
   "cell_type": "code",
   "execution_count": 12,
   "id": "47959828",
   "metadata": {},
   "outputs": [],
   "source": [
    "df = pd.read_csv('./data_2022-05-17_19:24:31.453025.csv', sep=';')"
   ]
  },
  {
   "cell_type": "code",
   "execution_count": 13,
   "id": "8b553828",
   "metadata": {},
   "outputs": [
    {
     "data": {
      "text/html": [
       "<div>\n",
       "<style scoped>\n",
       "    .dataframe tbody tr th:only-of-type {\n",
       "        vertical-align: middle;\n",
       "    }\n",
       "\n",
       "    .dataframe tbody tr th {\n",
       "        vertical-align: top;\n",
       "    }\n",
       "\n",
       "    .dataframe thead th {\n",
       "        text-align: right;\n",
       "    }\n",
       "</style>\n",
       "<table border=\"1\" class=\"dataframe\">\n",
       "  <thead>\n",
       "    <tr style=\"text-align: right;\">\n",
       "      <th></th>\n",
       "      <th>name</th>\n",
       "      <th>upvotes</th>\n",
       "      <th>downvotes</th>\n",
       "      <th>upvote_ratio</th>\n",
       "      <th>score</th>\n",
       "    </tr>\n",
       "    <tr>\n",
       "      <th>time</th>\n",
       "      <th></th>\n",
       "      <th></th>\n",
       "      <th></th>\n",
       "      <th></th>\n",
       "      <th></th>\n",
       "    </tr>\n",
       "  </thead>\n",
       "  <tbody>\n",
       "    <tr>\n",
       "      <th>2022-05-17 19:24:31.453274</th>\n",
       "      <td>t3_urrg3i</td>\n",
       "      <td>6</td>\n",
       "      <td>0</td>\n",
       "      <td>1.00</td>\n",
       "      <td>6</td>\n",
       "    </tr>\n",
       "    <tr>\n",
       "      <th>2022-05-17 19:24:31.453274</th>\n",
       "      <td>t3_urrfor</td>\n",
       "      <td>8</td>\n",
       "      <td>0</td>\n",
       "      <td>1.00</td>\n",
       "      <td>8</td>\n",
       "    </tr>\n",
       "    <tr>\n",
       "      <th>2022-05-17 19:24:31.453274</th>\n",
       "      <td>t3_urrby4</td>\n",
       "      <td>10</td>\n",
       "      <td>0</td>\n",
       "      <td>0.92</td>\n",
       "      <td>10</td>\n",
       "    </tr>\n",
       "    <tr>\n",
       "      <th>2022-05-17 19:24:31.453274</th>\n",
       "      <td>t3_urr59b</td>\n",
       "      <td>14</td>\n",
       "      <td>0</td>\n",
       "      <td>1.00</td>\n",
       "      <td>14</td>\n",
       "    </tr>\n",
       "    <tr>\n",
       "      <th>2022-05-17 19:24:31.453274</th>\n",
       "      <td>t3_urr2m9</td>\n",
       "      <td>7</td>\n",
       "      <td>0</td>\n",
       "      <td>0.82</td>\n",
       "      <td>7</td>\n",
       "    </tr>\n",
       "  </tbody>\n",
       "</table>\n",
       "</div>"
      ],
      "text/plain": [
       "                                 name  upvotes  downvotes  upvote_ratio  score\n",
       "time                                                                          \n",
       "2022-05-17 19:24:31.453274  t3_urrg3i        6          0          1.00      6\n",
       "2022-05-17 19:24:31.453274  t3_urrfor        8          0          1.00      8\n",
       "2022-05-17 19:24:31.453274  t3_urrby4       10          0          0.92     10\n",
       "2022-05-17 19:24:31.453274  t3_urr59b       14          0          1.00     14\n",
       "2022-05-17 19:24:31.453274  t3_urr2m9        7          0          0.82      7"
      ]
     },
     "execution_count": 13,
     "metadata": {},
     "output_type": "execute_result"
    }
   ],
   "source": [
    "df = df.set_index('time')\n",
    "df.head()"
   ]
  },
  {
   "cell_type": "code",
   "execution_count": 16,
   "id": "f4fd1ac5",
   "metadata": {},
   "outputs": [
    {
     "data": {
      "image/png": "[encoded data removed]",
      "text/plain": [
       "<Figure size 432x288 with 1 Axes>"
      ]
     },
     "metadata": {
      "needs_background": "light"
     },
     "output_type": "display_data"
    }
   ],
   "source": [
    "df.groupby('name')['upvotes'].plot()\n",
    "plt.xticks(rotation = 45) # Rotates X-Axis Ticks by 45-degrees\n",
    "plt.show()"
   ]
  }
 ],
 "metadata": {
  "kernelspec": {
   "display_name": "Python 3 (ipykernel)",
   "language": "python",
   "name": "python3"
  },
  "language_info": {
   "codemirror_mode": {
    "name": "ipython",
    "version": 3
   },
   "file_extension": ".py",
   "mimetype": "text/x-python",
   "name": "python",
   "nbconvert_exporter": "python",
   "pygments_lexer": "ipython3",
   "version": "3.10.4"
  }
 },
 "nbformat": 4,
 "nbformat_minor": 5
}
