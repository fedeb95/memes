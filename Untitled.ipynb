{
 "cells": [
  {
   "cell_type": "code",
   "execution_count": 1,
   "id": "5cfa09b2",
   "metadata": {},
   "outputs": [],
   "source": [
    "import pandas as pd\n",
    "import matplotlib.pyplot as plt\n",
    "import matplotlib as mpl\n",
    "from scipy.optimize import curve_fit\n",
    "import numpy as np\n",
    "from scipy.stats import poisson"
   ]
  },
  {
   "cell_type": "code",
   "execution_count": 42,
   "id": "3d164ace",
   "metadata": {},
   "outputs": [],
   "source": [
    "df = pd.read_csv('./ec2/data_new_100_hour_2022-05-27_22:44:49.914547.csv', sep=';')"
   ]
  },
  {
   "cell_type": "code",
   "execution_count": 43,
   "id": "938364f1",
   "metadata": {},
   "outputs": [
    {
     "data": {
      "text/html": [
       "<div>\n",
       "<style scoped>\n",
       "    .dataframe tbody tr th:only-of-type {\n",
       "        vertical-align: middle;\n",
       "    }\n",
       "\n",
       "    .dataframe tbody tr th {\n",
       "        vertical-align: top;\n",
       "    }\n",
       "\n",
       "    .dataframe thead th {\n",
       "        text-align: right;\n",
       "    }\n",
       "</style>\n",
       "<table border=\"1\" class=\"dataframe\">\n",
       "  <thead>\n",
       "    <tr style=\"text-align: right;\">\n",
       "      <th></th>\n",
       "      <th>name</th>\n",
       "      <th>upvotes</th>\n",
       "      <th>downvotes</th>\n",
       "      <th>upvote_ratio</th>\n",
       "      <th>score</th>\n",
       "    </tr>\n",
       "    <tr>\n",
       "      <th>time</th>\n",
       "      <th></th>\n",
       "      <th></th>\n",
       "      <th></th>\n",
       "      <th></th>\n",
       "      <th></th>\n",
       "    </tr>\n",
       "  </thead>\n",
       "  <tbody>\n",
       "    <tr>\n",
       "      <th>2022-05-27 22:44:49.915594</th>\n",
       "      <td>t3_uz9tif</td>\n",
       "      <td>1</td>\n",
       "      <td>0</td>\n",
       "      <td>1.00</td>\n",
       "      <td>1</td>\n",
       "    </tr>\n",
       "    <tr>\n",
       "      <th>2022-05-27 22:44:49.915594</th>\n",
       "      <td>t3_uz9svn</td>\n",
       "      <td>1</td>\n",
       "      <td>0</td>\n",
       "      <td>1.00</td>\n",
       "      <td>1</td>\n",
       "    </tr>\n",
       "    <tr>\n",
       "      <th>2022-05-27 22:44:49.915594</th>\n",
       "      <td>t3_uz9oki</td>\n",
       "      <td>12</td>\n",
       "      <td>0</td>\n",
       "      <td>0.88</td>\n",
       "      <td>12</td>\n",
       "    </tr>\n",
       "    <tr>\n",
       "      <th>2022-05-27 22:44:49.915594</th>\n",
       "      <td>t3_uz9o1z</td>\n",
       "      <td>12</td>\n",
       "      <td>0</td>\n",
       "      <td>1.00</td>\n",
       "      <td>12</td>\n",
       "    </tr>\n",
       "    <tr>\n",
       "      <th>2022-05-27 22:44:49.915594</th>\n",
       "      <td>t3_uz9nv1</td>\n",
       "      <td>6</td>\n",
       "      <td>0</td>\n",
       "      <td>1.00</td>\n",
       "      <td>6</td>\n",
       "    </tr>\n",
       "  </tbody>\n",
       "</table>\n",
       "</div>"
      ],
      "text/plain": [
       "                                 name  upvotes  downvotes  upvote_ratio  score\n",
       "time                                                                          \n",
       "2022-05-27 22:44:49.915594  t3_uz9tif        1          0          1.00      1\n",
       "2022-05-27 22:44:49.915594  t3_uz9svn        1          0          1.00      1\n",
       "2022-05-27 22:44:49.915594  t3_uz9oki       12          0          0.88     12\n",
       "2022-05-27 22:44:49.915594  t3_uz9o1z       12          0          1.00     12\n",
       "2022-05-27 22:44:49.915594  t3_uz9nv1        6          0          1.00      6"
      ]
     },
     "execution_count": 43,
     "metadata": {},
     "output_type": "execute_result"
    }
   ],
   "source": [
    "df = df.set_index('time')\n",
    "df.index = pd.DatetimeIndex(df.index)\n",
    "df.head()"
   ]
  },
  {
   "cell_type": "markdown",
   "id": "434abd31",
   "metadata": {},
   "source": [
    "Posts score evolution over time"
   ]
  },
  {
   "cell_type": "code",
   "execution_count": 44,
   "id": "7506e8fc",
   "metadata": {},
   "outputs": [
    {
     "data": {
      "image/png": "[encoded data removed]",
      "text/plain": [
       "<Figure size 360x216 with 1 Axes>"
      ]
     },
     "metadata": {
      "needs_background": "light"
     },
     "output_type": "display_data"
    }
   ],
   "source": [
    "fig = plt.figure(figsize=(5, 3))\n",
    "ax = fig.add_axes([0, 0, 1, 1])\n",
    "plt.xticks(rotation = 45) # Rotates X-Axis Ticks by 45-degrees\n",
    "df['interactions'] = df['upvotes'] + df['downvotes']\n",
    "df.groupby('name')['interactions'].plot()\n",
    "#ax.legend()\n",
    "plt.show()"
   ]
  },
  {
   "cell_type": "markdown",
   "id": "ad72edfb",
   "metadata": {},
   "source": [
    "Score at end of tracking period"
   ]
  },
  {
   "cell_type": "code",
   "execution_count": 45,
   "id": "e2fd4b2f",
   "metadata": {},
   "outputs": [
    {
     "data": {
      "text/html": [
       "<div>\n",
       "<style scoped>\n",
       "    .dataframe tbody tr th:only-of-type {\n",
       "        vertical-align: middle;\n",
       "    }\n",
       "\n",
       "    .dataframe tbody tr th {\n",
       "        vertical-align: top;\n",
       "    }\n",
       "\n",
       "    .dataframe thead th {\n",
       "        text-align: right;\n",
       "    }\n",
       "</style>\n",
       "<table border=\"1\" class=\"dataframe\">\n",
       "  <thead>\n",
       "    <tr style=\"text-align: right;\">\n",
       "      <th></th>\n",
       "      <th>name</th>\n",
       "      <th>upvotes</th>\n",
       "      <th>downvotes</th>\n",
       "      <th>upvote_ratio</th>\n",
       "      <th>score</th>\n",
       "      <th>interactions</th>\n",
       "    </tr>\n",
       "    <tr>\n",
       "      <th>time</th>\n",
       "      <th></th>\n",
       "      <th></th>\n",
       "      <th></th>\n",
       "      <th></th>\n",
       "      <th></th>\n",
       "      <th></th>\n",
       "    </tr>\n",
       "  </thead>\n",
       "  <tbody>\n",
       "    <tr>\n",
       "      <th>2022-05-28 08:27:48.356143</th>\n",
       "      <td>t3_uz8gjf</td>\n",
       "      <td>23932</td>\n",
       "      <td>0</td>\n",
       "      <td>0.97</td>\n",
       "      <td>23932</td>\n",
       "      <td>23932</td>\n",
       "    </tr>\n",
       "    <tr>\n",
       "      <th>2022-05-28 08:27:48.356143</th>\n",
       "      <td>t3_uz6010</td>\n",
       "      <td>19909</td>\n",
       "      <td>0</td>\n",
       "      <td>0.95</td>\n",
       "      <td>19909</td>\n",
       "      <td>19909</td>\n",
       "    </tr>\n",
       "    <tr>\n",
       "      <th>2022-05-28 08:27:48.356143</th>\n",
       "      <td>t3_uz6d2z</td>\n",
       "      <td>3801</td>\n",
       "      <td>0</td>\n",
       "      <td>0.96</td>\n",
       "      <td>3801</td>\n",
       "      <td>3801</td>\n",
       "    </tr>\n",
       "    <tr>\n",
       "      <th>2022-05-28 08:27:48.356143</th>\n",
       "      <td>t3_uz6dp7</td>\n",
       "      <td>790</td>\n",
       "      <td>0</td>\n",
       "      <td>0.93</td>\n",
       "      <td>790</td>\n",
       "      <td>790</td>\n",
       "    </tr>\n",
       "    <tr>\n",
       "      <th>2022-05-28 08:27:48.356143</th>\n",
       "      <td>t3_uz7kq8</td>\n",
       "      <td>587</td>\n",
       "      <td>0</td>\n",
       "      <td>0.99</td>\n",
       "      <td>587</td>\n",
       "      <td>587</td>\n",
       "    </tr>\n",
       "  </tbody>\n",
       "</table>\n",
       "</div>"
      ],
      "text/plain": [
       "                                 name  upvotes  downvotes  upvote_ratio  \\\n",
       "time                                                                      \n",
       "2022-05-28 08:27:48.356143  t3_uz8gjf    23932          0          0.97   \n",
       "2022-05-28 08:27:48.356143  t3_uz6010    19909          0          0.95   \n",
       "2022-05-28 08:27:48.356143  t3_uz6d2z     3801          0          0.96   \n",
       "2022-05-28 08:27:48.356143  t3_uz6dp7      790          0          0.93   \n",
       "2022-05-28 08:27:48.356143  t3_uz7kq8      587          0          0.99   \n",
       "\n",
       "                            score  interactions  \n",
       "time                                             \n",
       "2022-05-28 08:27:48.356143  23932         23932  \n",
       "2022-05-28 08:27:48.356143  19909         19909  \n",
       "2022-05-28 08:27:48.356143   3801          3801  \n",
       "2022-05-28 08:27:48.356143    790           790  \n",
       "2022-05-28 08:27:48.356143    587           587  "
      ]
     },
     "execution_count": 45,
     "metadata": {},
     "output_type": "execute_result"
    }
   ],
   "source": [
    "last = df[df.index == max(df.index)].sort_values(by='interactions',ascending=False)\n",
    "last.head()"
   ]
  },
  {
   "cell_type": "code",
   "execution_count": 46,
   "id": "1355912b",
   "metadata": {},
   "outputs": [
    {
     "data": {
      "text/plain": [
       "<AxesSubplot:xlabel='name'>"
      ]
     },
     "execution_count": 46,
     "metadata": {},
     "output_type": "execute_result"
    },
    {
     "data": {
      "image/png": "[encoded data removed]",
      "text/plain": [
       "<Figure size 432x288 with 1 Axes>"
      ]
     },
     "metadata": {
      "needs_background": "light"
     },
     "output_type": "display_data"
    }
   ],
   "source": [
    "last.plot('name', 'interactions')"
   ]
  },
  {
   "cell_type": "code",
   "execution_count": 47,
   "id": "4e9cb8ca",
   "metadata": {},
   "outputs": [],
   "source": [
    "# Function to calculate the power-law with constants a and b\n",
    "def power_law(x, a, b):\n",
    "    return a*np.power(x, b)"
   ]
  },
  {
   "cell_type": "code",
   "execution_count": 8,
   "id": "79c7e4a5",
   "metadata": {},
   "outputs": [],
   "source": [
    "# Function to calculate the exponential with constants a and b\n",
    "def exponential(x, a, b):\n",
    "    return a*np.exp(b*x)"
   ]
  },
  {
   "cell_type": "code",
   "execution_count": 9,
   "id": "00e82663",
   "metadata": {},
   "outputs": [],
   "source": [
    "def gauss(x, *p):\n",
    "    A, mu, sigma = p\n",
    "    return A*np.exp(-(x-mu)**2/(2.*sigma**2))"
   ]
  },
  {
   "cell_type": "code",
   "execution_count": 10,
   "id": "1e971b89",
   "metadata": {},
   "outputs": [],
   "source": [
    "from scipy.stats import poisson\n",
    "def poiss(x, *p):\n",
    "    return poisson.pmf(k=x, mu=p)"
   ]
  },
  {
   "cell_type": "code",
   "execution_count": 11,
   "id": "73256420",
   "metadata": {},
   "outputs": [],
   "source": [
    "func = exponential\n",
    "p0 = [0, 0] # exponential, power law\n",
    "#p0 = [1]\n",
    "#p0 = [1., 0., 1.] # gauss"
   ]
  },
  {
   "cell_type": "code",
   "execution_count": 12,
   "id": "500edc18",
   "metadata": {},
   "outputs": [
    {
     "data": {
      "text/plain": [
       "[<matplotlib.lines.Line2D at 0x7f1699a58130>]"
      ]
     },
     "execution_count": 12,
     "metadata": {},
     "output_type": "execute_result"
    },
    {
     "data": {
      "image/png": "[encoded data removed]",
      "text/plain": [
       "<Figure size 432x288 with 1 Axes>"
      ]
     },
     "metadata": {
      "needs_background": "light"
     },
     "output_type": "display_data"
    }
   ],
   "source": [
    "# Prepare data for fitting\n",
    "#x_data = x_data / len(x_data)\n",
    "tmp_data = last['interactions'].copy() #counts #last['score']\n",
    "#tmp_data = tmp_data / sum(tmp_data)\n",
    "x_data = [i for i in range(1, len(tmp_data)+1)]\n",
    "x_data = np.float64(x_data)\n",
    "plt.plot(x_data, tmp_data)"
   ]
  },
  {
   "cell_type": "code",
   "execution_count": 48,
   "id": "6391af55",
   "metadata": {},
   "outputs": [
    {
     "name": "stdout",
     "output_type": "stream",
     "text": [
      "[ 1.08903177e+05 -5.83452110e-01]\n",
      "[2.50681647e+03 1.38432697e-02]\n"
     ]
    }
   ],
   "source": [
    "tmp_data[tmp_data == 0] = 1e-18\n",
    "y_data = tmp_data.astype(np.float64).to_numpy()\n",
    "# Fit the data\n",
    "pars, cov = curve_fit(f=func, xdata=x_data, ydata=y_data, p0=p0, bounds=(-np.inf, np.inf))\n",
    "# Get the standard deviations of the parameters (square roots of the # diagonal of the covariance)\n",
    "stdevs = np.sqrt(np.diag(cov))# Calculate the residuals\n",
    "print(pars)\n",
    "print(stdevs)"
   ]
  },
  {
   "cell_type": "code",
   "execution_count": 49,
   "id": "f9080ebd",
   "metadata": {},
   "outputs": [
    {
     "data": {
      "text/plain": [
       "[<matplotlib.lines.Line2D at 0x7f1690044490>]"
      ]
     },
     "execution_count": 49,
     "metadata": {},
     "output_type": "execute_result"
    },
    {
     "data": {
      "image/png": "[encoded data removed]",
      "text/plain": [
       "<Figure size 216x216 with 1 Axes>"
      ]
     },
     "metadata": {
      "needs_background": "light"
     },
     "output_type": "display_data"
    }
   ],
   "source": [
    "fig = plt.figure(figsize=(3, 3))\n",
    "ax = fig.add_axes([0, 0, 1, 1])\n",
    "# Set the y-axis scaling to logarithmic\n",
    "#ax.set_yscale('log')\n",
    "# Set the y-ticks\n",
    "#ax.yaxis.set_major_locator(mpl.ticker.LogLocator(base=10.0))# Set the y-axis limits\n",
    "#ax.set_ylim(0.1, 1000)\n",
    "# Plot the data\n",
    "ax.scatter(x_data, y_data, s=20, color='#00b3b3', label='Data')\n",
    "# Plot the fit data as an overlay on the scatter data\n",
    "ax.plot(x_data, func(x_data, *pars), linestyle='--', linewidth=2, color='black')"
   ]
  },
  {
   "cell_type": "code",
   "execution_count": 50,
   "id": "e2a2a180",
   "metadata": {},
   "outputs": [
    {
     "data": {
      "text/plain": [
       "<matplotlib.collections.PathCollection at 0x7f168ff061d0>"
      ]
     },
     "execution_count": 50,
     "metadata": {},
     "output_type": "execute_result"
    },
    {
     "data": {
      "image/png": "[encoded data removed]",
      "text/plain": [
       "<Figure size 216x216 with 1 Axes>"
      ]
     },
     "metadata": {
      "needs_background": "light"
     },
     "output_type": "display_data"
    }
   ],
   "source": [
    "# Residuals\n",
    "res = y_data - func(x_data, *pars)\n",
    "fig = plt.figure(figsize=(3, 3))\n",
    "ax = fig.add_axes([0, 0, 1, 1])\n",
    "ax.scatter(x_data, res, s=20, color='#00b3b3', label='Residuals')"
   ]
  },
  {
   "cell_type": "markdown",
   "id": "1a144d5d",
   "metadata": {},
   "source": [
    "Why the residuals are so ugly, even if the distribution of interactions clearly is exponential?\n",
    "\n",
    "In any case, a few posts got nearly 80% of all interactions. \n",
    "\n",
    "Experiment: a post on reddit gets a percentage of total interactions over the period of time."
   ]
  },
  {
   "cell_type": "markdown",
   "id": "f3645298",
   "metadata": {},
   "source": [
    "Null hypothesis: data distribution == a certain distribution. We test several distributions, keeping the one with the highest p-value.\n",
    "\n",
    "p-value = P(observing data | data is from distribution) \n",
    "\n",
    "\n",
    "If p-value > 0.05, significant probability that the null hypothesis is correct, because the probability of observing this data if the distribution is genextreme is high."
   ]
  },
  {
   "cell_type": "code",
   "execution_count": 64,
   "id": "09a8be49",
   "metadata": {},
   "outputs": [],
   "source": [
    "import scipy.stats as st\n",
    "def get_best_distribution(data):\n",
    "    dist_names = [\"invgamma\"] #, \"levy\", \"levy_l\", \"genextreme\", \"chi2\"]\n",
    "    dist_results = []\n",
    "    params = {}\n",
    "    for dist_name in dist_names:\n",
    "        dist = getattr(st, dist_name)\n",
    "        param = dist.fit(data)\n",
    "        params[dist_name] = param\n",
    "        # Applying the Kolmogorov-Smirnov test\n",
    "        D, p = st.kstest(data, dist_name, args=param)\n",
    "        print(\"p value for \"+dist_name+\" = \"+str(p))\n",
    "        dist_results.append((dist_name, p))\n",
    "\n",
    "    # select the best fitted distribution\n",
    "    best_dist, best_p = (max(dist_results, key=lambda item: item[1]))\n",
    "    # store the name of the best fit and its p value\n",
    "\n",
    "    #print(\"Best fitting distribution: \"+str(best_dist))\n",
    "    #print(\"Best p value: \"+ str(best_p))\n",
    "    #print(\"Parameters for the best fit: \"+ str(params[best_dist]))\n",
    "    #print()\n",
    "\n",
    "    return best_dist, best_p, params[best_dist]"
   ]
  },
  {
   "cell_type": "code",
   "execution_count": 89,
   "id": "7824b118",
   "metadata": {},
   "outputs": [
    {
     "name": "stderr",
     "output_type": "stream",
     "text": [
      "/home/bedef/Projects/memes_power_law/venv/lib/python3.10/site-packages/scipy/stats/_distn_infrastructure.py:2640: RuntimeWarning: invalid value encountered in double_scalars\n",
      "  Lhat = muhat - Shat*mu\n"
     ]
    },
    {
     "name": "stdout",
     "output_type": "stream",
     "text": [
      "p value for invgamma = 0.3905579010012471\n"
     ]
    },
    {
     "name": "stderr",
     "output_type": "stream",
     "text": [
      "/home/bedef/Projects/memes_power_law/venv/lib/python3.10/site-packages/scipy/stats/_distn_infrastructure.py:2640: RuntimeWarning: invalid value encountered in double_scalars\n",
      "  Lhat = muhat - Shat*mu\n"
     ]
    },
    {
     "name": "stdout",
     "output_type": "stream",
     "text": [
      "p value for invgamma = 0.8577771709620977\n"
     ]
    },
    {
     "name": "stderr",
     "output_type": "stream",
     "text": [
      "/home/bedef/Projects/memes_power_law/venv/lib/python3.10/site-packages/scipy/stats/_distn_infrastructure.py:2640: RuntimeWarning: invalid value encountered in double_scalars\n",
      "  Lhat = muhat - Shat*mu\n"
     ]
    },
    {
     "name": "stdout",
     "output_type": "stream",
     "text": [
      "p value for invgamma = 0.5918857756806387\n"
     ]
    },
    {
     "name": "stderr",
     "output_type": "stream",
     "text": [
      "/home/bedef/Projects/memes_power_law/venv/lib/python3.10/site-packages/scipy/stats/_distn_infrastructure.py:2640: RuntimeWarning: invalid value encountered in double_scalars\n",
      "  Lhat = muhat - Shat*mu\n"
     ]
    },
    {
     "name": "stdout",
     "output_type": "stream",
     "text": [
      "p value for invgamma = 0.8089234730958611\n",
      "[('invgamma', 0.3905579010012471, (0.8744117985416577, -7.287430619760561e-05, 0.0002817791190800786)), ('invgamma', 0.8577771709620977, (0.6838997739307331, -4.8708284457367636e-05, 0.00028579799359807986)), ('invgamma', 0.5918857756806387, (0.6560786533621568, -6.866784098521482e-07, 0.00020101575174450082)), ('invgamma', 0.8089234730958611, (0.7446103301695746, -8.012514673333503e-06, 0.00034015175464681337))]\n"
     ]
    },
    {
     "data": {
      "image/png": "[encoded data removed]",
      "text/plain": [
       "<Figure size 432x288 with 1 Axes>"
      ]
     },
     "metadata": {
      "needs_background": "light"
     },
     "output_type": "display_data"
    }
   ],
   "source": [
    "import os\n",
    "#np.seterr('raise')\n",
    "files = os.listdir('./ec2/')\n",
    "pvalues = []\n",
    "tmp = []\n",
    "for f in files:\n",
    "    tmp = pd.read_csv('ec2/'+f, sep=';')\n",
    "    tmp.dropna()\n",
    "    tmp['interactions'] = tmp['upvotes'] + tmp['downvotes']\n",
    "    tmp = tmp.set_index('time')\n",
    "    tmp.index = pd.DatetimeIndex(tmp.index)\n",
    "    tmp =  tmp[tmp.index == max(tmp.index)].sort_values(by='interactions',ascending=False)\n",
    "    df2 = tmp['interactions']\n",
    "    tmp = df2\n",
    "    tmp = tmp / sum(tmp)\n",
    "    tmp[tmp == 0] = 1e-18\n",
    "    tmp = tmp.astype(np.float64).to_numpy()\n",
    "    x_data2 = [i for i in range(1, len(tmp)+1)]\n",
    "    plt.plot(x_data2, tmp)\n",
    "    res = get_best_distribution(tmp)\n",
    "    pvalues.append(res)\n",
    "    \n",
    "print(pvalues)"
   ]
  },
  {
   "cell_type": "code",
   "execution_count": 91,
   "id": "a3053113",
   "metadata": {},
   "outputs": [
    {
     "data": {
      "image/png": "[encoded data removed]",
      "text/plain": [
       "<Figure size 432x288 with 1 Axes>"
      ]
     },
     "metadata": {
      "needs_background": "light"
     },
     "output_type": "display_data"
    }
   ],
   "source": [
    "for pv in pvalues:\n",
    "    xs = np.linspace(0.01, 1, 100)\n",
    "    #if pv[0] == 'invgamma':\n",
    "    ys = st.invgamma(pv[2][0], loc=pv[2][1], scale=pv[2][2]).pdf(xs)\n",
    "    plt.plot(xs, ys)"
   ]
  }
 ],
 "metadata": {
  "kernelspec": {
   "display_name": "Python 3 (ipykernel)",
   "language": "python",
   "name": "python3"
  },
  "language_info": {
   "codemirror_mode": {
    "name": "ipython",
    "version": 3
   },
   "file_extension": ".py",
   "mimetype": "text/x-python",
   "name": "python",
   "nbconvert_exporter": "python",
   "pygments_lexer": "ipython3",
   "version": "3.10.4"
  }
 },
 "nbformat": 4,
 "nbformat_minor": 5
}
