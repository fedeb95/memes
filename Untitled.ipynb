{
 "cells": [
  {
   "cell_type": "code",
   "execution_count": 1,
   "id": "5cfa09b2",
   "metadata": {},
   "outputs": [],
   "source": [
    "import pandas as pd\n",
    "import matplotlib.pyplot as plt\n",
    "import matplotlib as mpl\n",
    "from scipy.optimize import curve_fit\n",
    "import numpy as np"
   ]
  },
  {
   "cell_type": "code",
   "execution_count": 71,
   "id": "3d164ace",
   "metadata": {},
   "outputs": [],
   "source": [
    "df = pd.read_csv('./data_new_100_hour_2022-05-18_19:13:12.133664.csv', sep=';')"
   ]
  },
  {
   "cell_type": "code",
   "execution_count": 72,
   "id": "938364f1",
   "metadata": {},
   "outputs": [
    {
     "data": {
      "text/html": [
       "<div>\n",
       "<style scoped>\n",
       "    .dataframe tbody tr th:only-of-type {\n",
       "        vertical-align: middle;\n",
       "    }\n",
       "\n",
       "    .dataframe tbody tr th {\n",
       "        vertical-align: top;\n",
       "    }\n",
       "\n",
       "    .dataframe thead th {\n",
       "        text-align: right;\n",
       "    }\n",
       "</style>\n",
       "<table border=\"1\" class=\"dataframe\">\n",
       "  <thead>\n",
       "    <tr style=\"text-align: right;\">\n",
       "      <th></th>\n",
       "      <th>name</th>\n",
       "      <th>upvotes</th>\n",
       "      <th>downvotes</th>\n",
       "      <th>upvote_ratio</th>\n",
       "      <th>score</th>\n",
       "    </tr>\n",
       "    <tr>\n",
       "      <th>time</th>\n",
       "      <th></th>\n",
       "      <th></th>\n",
       "      <th></th>\n",
       "      <th></th>\n",
       "      <th></th>\n",
       "    </tr>\n",
       "  </thead>\n",
       "  <tbody>\n",
       "    <tr>\n",
       "      <th>2022-05-18 19:13:12.134696</th>\n",
       "      <td>t3_uskdcl</td>\n",
       "      <td>3</td>\n",
       "      <td>0</td>\n",
       "      <td>1.00</td>\n",
       "      <td>3</td>\n",
       "    </tr>\n",
       "    <tr>\n",
       "      <th>2022-05-18 19:13:12.134696</th>\n",
       "      <td>t3_usk5hf</td>\n",
       "      <td>2</td>\n",
       "      <td>0</td>\n",
       "      <td>0.57</td>\n",
       "      <td>2</td>\n",
       "    </tr>\n",
       "    <tr>\n",
       "      <th>2022-05-18 19:13:12.134696</th>\n",
       "      <td>t3_usk4ng</td>\n",
       "      <td>11</td>\n",
       "      <td>0</td>\n",
       "      <td>0.92</td>\n",
       "      <td>11</td>\n",
       "    </tr>\n",
       "    <tr>\n",
       "      <th>2022-05-18 19:13:12.134696</th>\n",
       "      <td>t3_usk2fa</td>\n",
       "      <td>12</td>\n",
       "      <td>0</td>\n",
       "      <td>0.88</td>\n",
       "      <td>12</td>\n",
       "    </tr>\n",
       "    <tr>\n",
       "      <th>2022-05-18 19:13:12.134696</th>\n",
       "      <td>t3_usk265</td>\n",
       "      <td>8</td>\n",
       "      <td>0</td>\n",
       "      <td>0.90</td>\n",
       "      <td>8</td>\n",
       "    </tr>\n",
       "  </tbody>\n",
       "</table>\n",
       "</div>"
      ],
      "text/plain": [
       "                                 name  upvotes  downvotes  upvote_ratio  score\n",
       "time                                                                          \n",
       "2022-05-18 19:13:12.134696  t3_uskdcl        3          0          1.00      3\n",
       "2022-05-18 19:13:12.134696  t3_usk5hf        2          0          0.57      2\n",
       "2022-05-18 19:13:12.134696  t3_usk4ng       11          0          0.92     11\n",
       "2022-05-18 19:13:12.134696  t3_usk2fa       12          0          0.88     12\n",
       "2022-05-18 19:13:12.134696  t3_usk265        8          0          0.90      8"
      ]
     },
     "execution_count": 72,
     "metadata": {},
     "output_type": "execute_result"
    }
   ],
   "source": [
    "df = df.set_index('time')\n",
    "df.index = pd.DatetimeIndex(df.index)\n",
    "df.head()"
   ]
  },
  {
   "cell_type": "markdown",
   "id": "270fad13",
   "metadata": {},
   "source": [
    "Posts score evolution over time"
   ]
  },
  {
   "cell_type": "code",
   "execution_count": 128,
   "id": "7506e8fc",
   "metadata": {},
   "outputs": [
    {
     "data": {
      "image/png": "[encoded data removed]",
      "text/plain": [
       "<Figure size 360x216 with 1 Axes>"
      ]
     },
     "metadata": {
      "needs_background": "light"
     },
     "output_type": "display_data"
    }
   ],
   "source": [
    "fig = plt.figure(figsize=(5, 3))\n",
    "ax = fig.add_axes([0, 0, 1, 1])\n",
    "plt.xticks(rotation = 45) # Rotates X-Axis Ticks by 45-degrees\n",
    "df.groupby('name')['score'].plot()\n",
    "#ax.legend()\n",
    "plt.show()"
   ]
  },
  {
   "cell_type": "markdown",
   "id": "45f03e4f",
   "metadata": {},
   "source": [
    "Score at end of tracking period"
   ]
  },
  {
   "cell_type": "code",
   "execution_count": 144,
   "id": "9e97caab",
   "metadata": {},
   "outputs": [
    {
     "data": {
      "text/html": [
       "<div>\n",
       "<style scoped>\n",
       "    .dataframe tbody tr th:only-of-type {\n",
       "        vertical-align: middle;\n",
       "    }\n",
       "\n",
       "    .dataframe tbody tr th {\n",
       "        vertical-align: top;\n",
       "    }\n",
       "\n",
       "    .dataframe thead th {\n",
       "        text-align: right;\n",
       "    }\n",
       "</style>\n",
       "<table border=\"1\" class=\"dataframe\">\n",
       "  <thead>\n",
       "    <tr style=\"text-align: right;\">\n",
       "      <th></th>\n",
       "      <th>name</th>\n",
       "      <th>upvotes</th>\n",
       "      <th>downvotes</th>\n",
       "      <th>upvote_ratio</th>\n",
       "      <th>score</th>\n",
       "    </tr>\n",
       "    <tr>\n",
       "      <th>time</th>\n",
       "      <th></th>\n",
       "      <th></th>\n",
       "      <th></th>\n",
       "      <th></th>\n",
       "      <th></th>\n",
       "    </tr>\n",
       "  </thead>\n",
       "  <tbody>\n",
       "    <tr>\n",
       "      <th>2022-05-19 08:20:20.390788</th>\n",
       "      <td>t3_usdxdt</td>\n",
       "      <td>1911</td>\n",
       "      <td>0</td>\n",
       "      <td>0.97</td>\n",
       "      <td>1911</td>\n",
       "    </tr>\n",
       "    <tr>\n",
       "      <th>2022-05-19 08:20:20.390788</th>\n",
       "      <td>t3_usi1dx</td>\n",
       "      <td>2230</td>\n",
       "      <td>0</td>\n",
       "      <td>0.96</td>\n",
       "      <td>2230</td>\n",
       "    </tr>\n",
       "    <tr>\n",
       "      <th>2022-05-19 08:20:20.390788</th>\n",
       "      <td>t3_usgbx3</td>\n",
       "      <td>2485</td>\n",
       "      <td>0</td>\n",
       "      <td>0.98</td>\n",
       "      <td>2485</td>\n",
       "    </tr>\n",
       "    <tr>\n",
       "      <th>2022-05-19 08:20:20.390788</th>\n",
       "      <td>t3_use8po</td>\n",
       "      <td>12034</td>\n",
       "      <td>0</td>\n",
       "      <td>0.98</td>\n",
       "      <td>12034</td>\n",
       "    </tr>\n",
       "    <tr>\n",
       "      <th>2022-05-19 08:20:20.390788</th>\n",
       "      <td>t3_usgn87</td>\n",
       "      <td>32505</td>\n",
       "      <td>0</td>\n",
       "      <td>0.94</td>\n",
       "      <td>32505</td>\n",
       "    </tr>\n",
       "  </tbody>\n",
       "</table>\n",
       "</div>"
      ],
      "text/plain": [
       "                                 name  upvotes  downvotes  upvote_ratio  score\n",
       "time                                                                          \n",
       "2022-05-19 08:20:20.390788  t3_usdxdt     1911          0          0.97   1911\n",
       "2022-05-19 08:20:20.390788  t3_usi1dx     2230          0          0.96   2230\n",
       "2022-05-19 08:20:20.390788  t3_usgbx3     2485          0          0.98   2485\n",
       "2022-05-19 08:20:20.390788  t3_use8po    12034          0          0.98  12034\n",
       "2022-05-19 08:20:20.390788  t3_usgn87    32505          0          0.94  32505"
      ]
     },
     "execution_count": 144,
     "metadata": {},
     "output_type": "execute_result"
    }
   ],
   "source": [
    "last = df[df.index == '2022-05-19 08:20:20.390788'].sort_values(by='score',ascending=True)\n",
    "last.tail()"
   ]
  },
  {
   "cell_type": "code",
   "execution_count": 145,
   "id": "29b0c1af",
   "metadata": {},
   "outputs": [
    {
     "data": {
      "text/plain": [
       "<AxesSubplot:xlabel='name'>"
      ]
     },
     "execution_count": 145,
     "metadata": {},
     "output_type": "execute_result"
    },
    {
     "data": {
      "image/png": "[encoded data removed]",
      "text/plain": [
       "<Figure size 432x288 with 1 Axes>"
      ]
     },
     "metadata": {
      "needs_background": "light"
     },
     "output_type": "display_data"
    }
   ],
   "source": [
    "last.plot('name','score')"
   ]
  },
  {
   "cell_type": "code",
   "execution_count": 146,
   "id": "4e9cb8ca",
   "metadata": {},
   "outputs": [],
   "source": [
    "# Function to calculate the power-law with constants a and b\n",
    "def power_law(x, a, b):\n",
    "    return a*np.power(x, b)"
   ]
  },
  {
   "cell_type": "code",
   "execution_count": 147,
   "id": "79050d64",
   "metadata": {},
   "outputs": [],
   "source": [
    "# Prepare data for fitting\n",
    "tmp_data = last['score']\n",
    "x_data = [i for i in range(1, len(tmp_data)+1)]\n",
    "y_data = tmp_data.astype(np.int64).to_numpy()"
   ]
  },
  {
   "cell_type": "code",
   "execution_count": 148,
   "id": "de88fdcb",
   "metadata": {},
   "outputs": [
    {
     "ename": "RuntimeError",
     "evalue": "Optimal parameters not found: Number of calls to function has reached maxfev = 600.",
     "output_type": "error",
     "traceback": [
      "\u001b[0;31m---------------------------------------------------------------------------\u001b[0m",
      "\u001b[0;31mRuntimeError\u001b[0m                              Traceback (most recent call last)",
      "Input \u001b[0;32mIn [148]\u001b[0m, in \u001b[0;36m<cell line: 2>\u001b[0;34m()\u001b[0m\n\u001b[1;32m      1\u001b[0m \u001b[38;5;66;03m# Fit the data\u001b[39;00m\n\u001b[0;32m----> 2\u001b[0m pars, cov \u001b[38;5;241m=\u001b[39m \u001b[43mcurve_fit\u001b[49m\u001b[43m(\u001b[49m\u001b[43mf\u001b[49m\u001b[38;5;241;43m=\u001b[39;49m\u001b[43mpower_law\u001b[49m\u001b[43m,\u001b[49m\u001b[43m \u001b[49m\u001b[43mxdata\u001b[49m\u001b[38;5;241;43m=\u001b[39;49m\u001b[43mx_data\u001b[49m\u001b[43m,\u001b[49m\u001b[43m \u001b[49m\u001b[43mydata\u001b[49m\u001b[38;5;241;43m=\u001b[39;49m\u001b[43my_data\u001b[49m\u001b[43m,\u001b[49m\u001b[43m \u001b[49m\u001b[43mp0\u001b[49m\u001b[38;5;241;43m=\u001b[39;49m\u001b[43m[\u001b[49m\u001b[38;5;241;43m0\u001b[39;49m\u001b[43m,\u001b[49m\u001b[43m \u001b[49m\u001b[38;5;241;43m0\u001b[39;49m\u001b[43m]\u001b[49m\u001b[43m,\u001b[49m\u001b[43m \u001b[49m\u001b[43mbounds\u001b[49m\u001b[38;5;241;43m=\u001b[39;49m\u001b[43m(\u001b[49m\u001b[38;5;241;43m-\u001b[39;49m\u001b[43mnp\u001b[49m\u001b[38;5;241;43m.\u001b[39;49m\u001b[43minf\u001b[49m\u001b[43m,\u001b[49m\u001b[43m \u001b[49m\u001b[43mnp\u001b[49m\u001b[38;5;241;43m.\u001b[39;49m\u001b[43minf\u001b[49m\u001b[43m)\u001b[49m\u001b[43m)\u001b[49m\n",
      "File \u001b[0;32m~/Projects/memes_power_law/venv/lib/python3.10/site-packages/scipy/optimize/_minpack_py.py:794\u001b[0m, in \u001b[0;36mcurve_fit\u001b[0;34m(f, xdata, ydata, p0, sigma, absolute_sigma, check_finite, bounds, method, jac, **kwargs)\u001b[0m\n\u001b[1;32m    792\u001b[0m     cost \u001b[38;5;241m=\u001b[39m np\u001b[38;5;241m.\u001b[39msum(infodict[\u001b[38;5;124m'\u001b[39m\u001b[38;5;124mfvec\u001b[39m\u001b[38;5;124m'\u001b[39m] \u001b[38;5;241m*\u001b[39m\u001b[38;5;241m*\u001b[39m \u001b[38;5;241m2\u001b[39m)\n\u001b[1;32m    793\u001b[0m     \u001b[38;5;28;01mif\u001b[39;00m ier \u001b[38;5;129;01mnot\u001b[39;00m \u001b[38;5;129;01min\u001b[39;00m [\u001b[38;5;241m1\u001b[39m, \u001b[38;5;241m2\u001b[39m, \u001b[38;5;241m3\u001b[39m, \u001b[38;5;241m4\u001b[39m]:\n\u001b[0;32m--> 794\u001b[0m         \u001b[38;5;28;01mraise\u001b[39;00m \u001b[38;5;167;01mRuntimeError\u001b[39;00m(\u001b[38;5;124m\"\u001b[39m\u001b[38;5;124mOptimal parameters not found: \u001b[39m\u001b[38;5;124m\"\u001b[39m \u001b[38;5;241m+\u001b[39m errmsg)\n\u001b[1;32m    795\u001b[0m \u001b[38;5;28;01melse\u001b[39;00m:\n\u001b[1;32m    796\u001b[0m     \u001b[38;5;66;03m# Rename maxfev (leastsq) to max_nfev (least_squares), if specified.\u001b[39;00m\n\u001b[1;32m    797\u001b[0m     \u001b[38;5;28;01mif\u001b[39;00m \u001b[38;5;124m'\u001b[39m\u001b[38;5;124mmax_nfev\u001b[39m\u001b[38;5;124m'\u001b[39m \u001b[38;5;129;01mnot\u001b[39;00m \u001b[38;5;129;01min\u001b[39;00m kwargs:\n",
      "\u001b[0;31mRuntimeError\u001b[0m: Optimal parameters not found: Number of calls to function has reached maxfev = 600."
     ]
    }
   ],
   "source": [
    "# Fit the data\n",
    "pars, cov = curve_fit(f=power_law, xdata=x_data, ydata=y_data, p0=[0, 0], bounds=(-np.inf, np.inf))"
   ]
  },
  {
   "cell_type": "code",
   "execution_count": null,
   "id": "f0d8a6f9",
   "metadata": {},
   "outputs": [],
   "source": [
    "# Get the standard deviations of the parameters (square roots of the # diagonal of the covariance)\n",
    "stdevs = np.sqrt(np.diag(cov))# Calculate the residuals\n",
    "res = y_data - power_law(x_data, *pars)"
   ]
  },
  {
   "cell_type": "code",
   "execution_count": 122,
   "id": "0a454e14",
   "metadata": {},
   "outputs": [
    {
     "data": {
      "text/plain": [
       "[<matplotlib.lines.Line2D at 0x7fc26773b3d0>]"
      ]
     },
     "execution_count": 122,
     "metadata": {},
     "output_type": "execute_result"
    },
    {
     "data": {
      "image/png": "[encoded data removed]",
      "text/plain": [
       "<Figure size 216x216 with 1 Axes>"
      ]
     },
     "metadata": {
      "needs_background": "light"
     },
     "output_type": "display_data"
    }
   ],
   "source": [
    "fig = plt.figure(figsize=(3, 3))\n",
    "ax = fig.add_axes([0, 0, 1, 1])\n",
    "# Set the y-axis scaling to logarithmic\n",
    "ax.set_yscale('log')\n",
    "# Set the y-ticks\n",
    "ax.yaxis.set_major_locator(mpl.ticker.LogLocator(base=10.0))# Set the y-axis limits\n",
    "ax.set_ylim(0.1, 1000)\n",
    "# Plot the data\n",
    "ax.scatter(x_data, y_data, s=20, color='#00b3b3', label='Data')\n",
    "# Plot the fit data as an overlay on the scatter data\n",
    "ax.plot(x_data, power_law(x_data, *pars), linestyle='--', linewidth=2, color='black')"
   ]
  },
  {
   "cell_type": "code",
   "execution_count": 123,
   "id": "37b5ead6",
   "metadata": {},
   "outputs": [
    {
     "name": "stdout",
     "output_type": "stream",
     "text": [
      "[ 3.27923241e+04 -1.75560199e+00]\n"
     ]
    }
   ],
   "source": [
    "print(pars)"
   ]
  }
 ],
 "metadata": {
  "kernelspec": {
   "display_name": "Python 3 (ipykernel)",
   "language": "python",
   "name": "python3"
  },
  "language_info": {
   "codemirror_mode": {
    "name": "ipython",
    "version": 3
   },
   "file_extension": ".py",
   "mimetype": "text/x-python",
   "name": "python",
   "nbconvert_exporter": "python",
   "pygments_lexer": "ipython3",
   "version": "3.10.4"
  }
 },
 "nbformat": 4,
 "nbformat_minor": 5
}
